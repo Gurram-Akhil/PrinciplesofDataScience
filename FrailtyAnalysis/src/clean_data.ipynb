{
 "cells": [
  {
   "cell_type": "code",
   "execution_count": 3,
   "id": "f5eea378",
   "metadata": {},
   "outputs": [],
   "source": [
    "import pandas as pd"
   ]
  },
  {
   "cell_type": "code",
   "execution_count": 4,
   "id": "dda10097",
   "metadata": {},
   "outputs": [],
   "source": [
    "# importing clean data for analysis"
   ]
  },
  {
   "cell_type": "code",
   "execution_count": 5,
   "id": "6c75aac2",
   "metadata": {},
   "outputs": [
    {
     "name": "stdout",
     "output_type": "stream",
     "text": [
      "   Unnamed: 0.1  Unnamed: 0 Height Weight  Age Grip Strength Frailty\n",
      "0             0           0  65.8    112   30            30       N \n",
      "1             1           1  71.5    136   19            31       N \n",
      "2             2           2  69.4    153   45            29       N \n",
      "3             3           3  68.2    142   22            28       Y \n",
      "4             4           4  67.8    144   29            24       Y \n",
      "5             5           5  68.7    123   50            26       N \n",
      "6             6           6  69.8    141   51            22       Y \n",
      "7             7           7  70.1    136   23            20       Y \n",
      "8             8           8  67.9    112   17            19       N \n",
      "9             9           9  66.8    120   39            31       N \n"
     ]
    }
   ],
   "source": [
    "df = pd.read_csv(\"../hp/Book1.csv\")\n",
    "print(df.to_string())"
   ]
  },
  {
   "cell_type": "code",
   "execution_count": 6,
   "id": "d737e438",
   "metadata": {},
   "outputs": [],
   "source": [
    "# checking for null values"
   ]
  },
  {
   "cell_type": "code",
   "execution_count": 7,
   "id": "614c5a1e",
   "metadata": {},
   "outputs": [
    {
     "data": {
      "text/plain": [
       "Unnamed: 0.1     0\n",
       "Unnamed: 0       0\n",
       "Height           0\n",
       "Weight           0\n",
       "Age              0\n",
       "Grip Strength    0\n",
       "Frailty          0\n",
       "dtype: int64"
      ]
     },
     "execution_count": 7,
     "metadata": {},
     "output_type": "execute_result"
    }
   ],
   "source": [
    "df.isnull().sum()"
   ]
  },
  {
   "cell_type": "code",
   "execution_count": 8,
   "id": "f7f85dd5",
   "metadata": {},
   "outputs": [],
   "source": [
    "df.to_csv(\"Book1.csv\")"
   ]
  },
  {
   "cell_type": "code",
   "execution_count": null,
   "id": "e36d985f",
   "metadata": {},
   "outputs": [],
   "source": []
  }
 ],
 "metadata": {
  "kernelspec": {
   "display_name": "Python 3 (ipykernel)",
   "language": "python",
   "name": "python3"
  },
  "language_info": {
   "codemirror_mode": {
    "name": "ipython",
    "version": 3
   },
   "file_extension": ".py",
   "mimetype": "text/x-python",
   "name": "python",
   "nbconvert_exporter": "python",
   "pygments_lexer": "ipython3",
   "version": "3.11.4"
  }
 },
 "nbformat": 4,
 "nbformat_minor": 5
}
